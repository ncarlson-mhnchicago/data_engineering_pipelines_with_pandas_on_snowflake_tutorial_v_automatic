{
 "cells": [
  {
   "cell_type": "markdown",
   "id": "1dde02fa-0044-4b20-b7bb-10f1a5b3fabb",
   "metadata": {
    "collapsed": false,
    "name": "description"
   },
   "source": [
    "### Data Engineering Pipelines with pandas on Snowflake - Automated Version\n",
    "\n",
    "This notebook create a serverless task to schedule the feature engineering pipeline (Currently in Private Preview) as follows:\n",
    "\n",
    "1. Create datframe from a Snowflake table\n",
    "2. Aggregate data to create new features\n",
    "3. Join dataframes\n",
    "4. Save the result into a Snowflake table\n",
    "\n",
    "\n",
    "Source Data: `SNOWFLAKE_SAMPLE_DATA`\n",
    "\n",
    "Tutorial: https://quickstarts.snowflake.com/guide/data_engineering_pipelines_with_snowpark_pandas/index.html?index=..%2F..index#0\n"
   ]
  },
  {
   "cell_type": "code",
   "execution_count": null,
   "id": "4039104e-54fc-411e-972e-0f5a2d884595",
   "metadata": {
    "codeCollapsed": false,
    "collapsed": false,
    "language": "python",
    "name": "imports"
   },
   "outputs": [],
   "source": [
    "# Imports\n",
    "from datetime import timedelta\n",
    "\n",
    "import streamlit as st\n",
    "import matplotlib.pyplot as plt\n",
    "import seaborn as sns\n",
    "\n",
    "from snowflake.snowpark.context import get_active_session\n",
    "from snowflake.core import Root\n",
    "import snowflake.snowpark.modin.plugin  # Snowpark pandas plugin for modin\n",
    "import modin.pandas as spd  # Snowpark Pandas API\n",
    "from snowflake.core.task import Task\n",
    "from snowflake.core import CreateMode"
   ]
  },
  {
   "cell_type": "code",
   "execution_count": null,
   "id": "811abc04-f6b8-4ec4-8ad4-34af28ff8c31",
   "metadata": {
    "codeCollapsed": false,
    "collapsed": false,
    "language": "python",
    "name": "set_paths"
   },
   "outputs": [],
   "source": [
    "# Set Paths\n",
    "\n",
    "# Source\n",
    "source_db = \"SNOWFLAKE_SAMPLE_DATA\"\n",
    "source_schema = \"TPCH_SF1\"\n",
    "source_data_path = f\"{source_db}.{source_schema}\"\n",
    "\n",
    "# Target\n",
    "target_db = \"data_engineering_pipelines_with_pandas_on_snowflake_tutorial_v_automatic\"\n",
    "target_schema = \"DATA\"\n",
    "target_data_path = f\"{target_db}.{target_schema}\""
   ]
  },
  {
   "cell_type": "code",
   "execution_count": null,
   "id": "ebf61f5d-3372-46cd-9e6c-769b4e453a71",
   "metadata": {
    "language": "sql",
    "name": "ddl",
    "vscode": {
     "languageId": "snowflake-sql"
    }
   },
   "outputs": [],
   "source": [
    "-- DDL\n",
    "\n",
    "-- stage\n",
    "CREATE STAGE IF NOT EXISTS create_customer_profile_stage;"
   ]
  },
  {
   "cell_type": "code",
   "execution_count": null,
   "id": "d66adbc4-2b92-4d7d-86a5-217ee78e061f",
   "metadata": {
    "codeCollapsed": false,
    "collapsed": false,
    "language": "python",
    "name": "set_session"
   },
   "outputs": [],
   "source": [
    "# Create a snowpark session\n",
    "session = get_active_session()\n",
    "session.use_schema(target_data_path)\n",
    "\n",
    "# Add a query tag to the session for troubleshooting and monitoring\n",
    "session.query_tag = {\n",
    "    \"origin\":\"sf_sit-is\", \n",
    "    \"name\":\"de_pipeline_pandas_on_snowflake\", \n",
    "    \"version\":{\"major\":1, \"minor\":0},\n",
    "    \"attributes\":{\"is_quickstart\":1, \"source\":\"notebook\", \"vignette\":\"snowpark_pandas\"}\n",
    "}\n",
    "\n",
    "# Set root\n",
    "root = Root(session)"
   ]
  },
  {
   "cell_type": "code",
   "execution_count": null,
   "id": "85ca6303-eae9-4e14-bea8-666e6d286b22",
   "metadata": {
    "codeCollapsed": false,
    "collapsed": false,
    "language": "python",
    "name": "define_function"
   },
   "outputs": [],
   "source": [
    "# Define function create_customer_profile\n",
    "def create_customer_profile(snf_session: snowflake.snowpark.Session, source_data_path: str, target_data_path: str) -> str:\n",
    "\n",
    "    # -----------------\n",
    "    # Get LINEITEM\n",
    "    # -----------------\n",
    "    lineitem_keep_cols = ['L_ORDERKEY', 'L_LINENUMBER', 'L_PARTKEY', 'L_RETURNFLAG', 'L_QUANTITY', 'L_DISCOUNT', 'L_EXTENDEDPRICE']\n",
    "    lineitem_sdf = spd.read_snowflake(f\"{source_data_path}.LINEITEM\")[lineitem_keep_cols]\n",
    "    # Filter\n",
    "    lineitem_sdf = lineitem_sdf[lineitem_sdf['L_RETURNFLAG'] != 'A']\n",
    "    # Add column\n",
    "    lineitem_sdf['DISCOUNT_AMOUNT'] = (lineitem_sdf['L_DISCOUNT'] * (lineitem_sdf['L_QUANTITY'] * lineitem_sdf['L_EXTENDEDPRICE']))\n",
    "    # Transform\n",
    "    column_groupby = ['L_ORDERKEY', 'L_RETURNFLAG']\n",
    "    column_agg = { \n",
    "        'L_QUANTITY':['sum'],\n",
    "        'DISCOUNT_AMOUNT': ['sum']\n",
    "    }    \n",
    "    lineitem_sdf = lineitem_sdf.groupby(by=column_groupby, as_index=False).agg(column_agg)  # Apply the aggregation    \n",
    "    lineitem_sdf.columns = ['L_ORDERKEY', 'L_RETURNFLAG', 'NBR_OF_ITEMS', 'TOT_DISCOUNT_AMOUNT']  # Rename the columns\n",
    "    \n",
    "    # -------------\n",
    "    # Get ORDERS\n",
    "    # -------------\n",
    "    order_sdf = spd.read_snowflake(f\"{source_data_path}.ORDERS\")\n",
    "    # Drop unused columns \n",
    "    order_sdf = order_sdf.drop(['O_ORDERPRIORITY', 'O_CLERK', 'O_SHIPPRIORITY', 'O_COMMENT'], axis=1)\n",
    "\n",
    "    # -------------------------\n",
    "    # Join LINEITEM and ORDERS\n",
    "    # -------------------------\n",
    "    customer_profile_sdf = spd.merge(lineitem_sdf,order_sdf, left_on='L_ORDERKEY', right_on='O_ORDERKEY', how='left')\n",
    "    customer_profile_sdf.drop('L_ORDERKEY', axis=1, inplace=True)\n",
    "    # Transform\n",
    "    column_groupby = ['O_CUSTKEY']\n",
    "    column_agg = {\n",
    "        'O_ORDERKEY':['count'], \n",
    "        'O_TOTALPRICE': ['sum' ,'mean', 'median'],\n",
    "        'TOT_DISCOUNT_AMOUNT': ['sum'],\n",
    "    } \n",
    "    customer_profile_sdf = customer_profile_sdf.groupby(by=column_groupby, as_index=False).agg(column_agg) # Apply the aggregation \n",
    "    customer_profile_sdf.columns = ['O_CUSTKEY', 'NUMBER_OF_ORDERS', 'TOT_ORDER_AMOUNT', \n",
    "                                 'AVG_ORDER_AMOUNT', 'MEDIAN_ORDER_AMOUNT', 'TOT_DISCOUNT_AMOUNT'] # Rename the columns  \n",
    "    \n",
    "    # Save to a table, replace if existing\n",
    "    save_path = f\"{target_data_path}.customer_profile\"\n",
    "    customer_profile_sdf.to_snowflake(name=save_path, if_exists=\"replace\", index=False)    \n",
    "    return f'Successful run with Modin:{spd.__version__}, Snowpark:{snowflake.snowpark.__version__}. Saved to {save_path}.'"
   ]
  },
  {
   "cell_type": "code",
   "execution_count": null,
   "id": "1bf7cf5e-6792-456d-bb5e-fa3c9735be19",
   "metadata": {
    "codeCollapsed": false,
    "collapsed": false,
    "language": "python",
    "name": "create_stored_proc"
   },
   "outputs": [],
   "source": [
    "# Register a stored proc that calls function create_customer_profile\n",
    "create_customer_profile_sp = session.sproc.register(name=\"create_customer_profile_sp\", \n",
    "                                                    func=create_customer_profile, replace=True, \n",
    "                                                    is_permanent=True, \n",
    "                                                    packages=['modin', 'snowflake-snowpark-python'], \n",
    "                                                    stage_location='@create_customer_profile_stage')\n",
    "print(f\"create_customer_profile_sp: {create_customer_profile_sp}\")"
   ]
  },
  {
   "cell_type": "code",
   "execution_count": null,
   "id": "cd641546-9a21-474e-90c8-96914a99d6ff",
   "metadata": {
    "codeCollapsed": false,
    "collapsed": false,
    "language": "python",
    "name": "create_task"
   },
   "outputs": [],
   "source": [
    "# Create a task object\n",
    "task_obj = Task(name='create_customer_profile_task',\n",
    "                definition=f\"CALL create_customer_profile_sp('{source_data_path}', '{target_data_path}')\",\n",
    "                schedule=timedelta(minutes=1))\n",
    "print(f\"task_obj: {task_obj}\")\n",
    "\n",
    "# Get task_collection\n",
    "task_collection = root.databases[target_db].schemas[target_schema].tasks\n",
    "print(f\"task_collection: {task_collection}\")\n",
    "\n",
    "# Create task resource\n",
    "task_resource = task_collection.create(task_obj,mode=CreateMode.or_replace)\n",
    "print(f\"task_resource: {task_resource}\")"
   ]
  },
  {
   "cell_type": "code",
   "execution_count": null,
   "id": "33b86364-2eca-48c2-803b-09a71a043389",
   "metadata": {
    "codeCollapsed": false,
    "collapsed": false,
    "language": "python",
    "name": "start_task"
   },
   "outputs": [],
   "source": [
    "# Start task\n",
    "\n",
    "# Note: By default, new tasks that are created are suspended\n",
    "task_resource.resume()"
   ]
  },
  {
   "cell_type": "code",
   "execution_count": null,
   "id": "fce71a50-3c06-472d-879d-77cc68478094",
   "metadata": {
    "codeCollapsed": false,
    "collapsed": false,
    "language": "python",
    "name": "stop_task"
   },
   "outputs": [],
   "source": [
    "# Stop task\n",
    "\n",
    "task_resource.suspend()"
   ]
  },
  {
   "cell_type": "code",
   "execution_count": null,
   "id": "745afc02-5483-45a7-b559-33941e8d2701",
   "metadata": {
    "codeCollapsed": false,
    "collapsed": false,
    "language": "sql",
    "name": "show_tasks",
    "vscode": {
     "languageId": "snowflake-sql"
    }
   },
   "outputs": [],
   "source": [
    "-- View tasks\n",
    "SHOW TASKS IN SCHEMA {{target_data_path}}\n",
    "--SHOW TASKS LIKE '%CUSTOMER_PROFILE%' IN SCHEMA {{target_data_path}}"
   ]
  },
  {
   "cell_type": "code",
   "execution_count": null,
   "id": "b8141e33-2188-4dad-886d-a516127ed616",
   "metadata": {
    "codeCollapsed": false,
    "collapsed": false,
    "language": "sql",
    "name": "select_task_history",
    "vscode": {
     "languageId": "snowflake-sql"
    }
   },
   "outputs": [],
   "source": [
    "-- View task history\n",
    "SELECT * FROM TABLE({{target_db}}.information_schema.task_history(\n",
    "    task_name=>'create_customer_profile_task'))\n",
    "--WHERE SCHEDULED_TIME >= CURRENT_TIMESTAMP() - INTERVAL '10 MINUTES';"
   ]
  },
  {
   "cell_type": "code",
   "execution_count": null,
   "id": "8543b643-e6aa-4f57-ae01-211f3afd22f5",
   "metadata": {
    "language": "sql",
    "name": "show_target_tables",
    "vscode": {
     "languageId": "snowflake-sql"
    }
   },
   "outputs": [],
   "source": [
    "-- View tables\n",
    "SHOW TABLES IN {{target_data_path}};\n",
    "--SHOW TABLES LIKE 'CUSTOMER_PROFILE' IN {{target_data_path}};"
   ]
  },
  {
   "cell_type": "code",
   "execution_count": null,
   "id": "7aacead4-dba7-4b35-ad0b-23dc173aada2",
   "metadata": {
    "codeCollapsed": false,
    "collapsed": false,
    "language": "sql",
    "name": "select_customer_profile",
    "vscode": {
     "languageId": "snowflake-sql"
    }
   },
   "outputs": [],
   "source": [
    "-- View customer_profile table\n",
    "SELECT * FROM {{target_data_path}}.customer_profile LIMIT 10;"
   ]
  },
  {
   "cell_type": "code",
   "execution_count": null,
   "id": "c467d0df-50d0-4dec-8149-d14c8c897d3c",
   "metadata": {
    "codeCollapsed": false,
    "collapsed": false,
    "language": "python",
    "name": "plot_customer_profile"
   },
   "outputs": [],
   "source": [
    "# Visualize data\n",
    "\n",
    "# Retrieve latest data\n",
    "customer_profile_sdf = spd.read_snowflake(f\"{target_data_path}.CUSTOMER_PROFILE\")    \n",
    "\n",
    "# Convert snowpark df to pandas df\n",
    "customer_profile_df = customer_profile_sdf.to_pandas()\n",
    "\n",
    "# Set figure and axex\n",
    "fig, axes = plt.subplots(1,4,figsize=(15,3))\n",
    "\n",
    "colnames = ['NUMBER_OF_ORDERS', 'AVG_ORDER_AMOUNT', 'TOT_DISCOUNT_AMOUNT', 'MEDIAN_ORDER_AMOUNT']\n",
    "# Iterating through axes and names\n",
    "for col, ax in zip(colnames, axes.flatten()):\n",
    "    ax.set_title(col)\n",
    "    sns.histplot(customer_profile_df, x=col , ax=ax, kde=True, stat=\"density\", kde_kws=dict(cut=3), alpha=.4, edgecolor=(1, 1, 1, .4))\n",
    "fig.tight_layout()"
   ]
  },
  {
   "cell_type": "code",
   "execution_count": null,
   "metadata": {
    "vscode": {
     "languageId": "snowflake-sql"
    }
   },
   "outputs": [],
   "source": [
    "-- Teardown\n",
    "\n",
    "DROP DATABASE data_engineering_pipelines_with_pandas_on_snowflake_tutorial_v_automatic;\n",
    "DROP WAREHOUSE MHN;"
   ]
  }
 ],
 "metadata": {
  "kernelspec": {
   "display_name": "snowpark_pandas",
   "language": "python",
   "name": "python3"
  },
  "language_info": {
   "codemirror_mode": {
    "name": "ipython",
    "version": 3
   },
   "file_extension": ".py",
   "mimetype": "text/x-python",
   "name": "python",
   "nbconvert_exporter": "python",
   "pygments_lexer": "ipython3",
   "version": "3.9.19"
  },
  "lastEditStatus": {
   "authorEmail": "ncarlson@mhnchicago.org",
   "authorId": "2138240225000",
   "authorName": "NCARLSON",
   "lastEditTime": 1749742731189,
   "notebookId": "4rzljnorlfeprqtatxb4",
   "sessionId": "3ab724cd-df09-48b7-acbd-2afe5399cae2"
  }
 },
 "nbformat": 4,
 "nbformat_minor": 2
}
